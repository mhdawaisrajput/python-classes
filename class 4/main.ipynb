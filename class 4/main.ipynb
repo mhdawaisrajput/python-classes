{
 "cells": [
  {
   "cell_type": "code",
   "execution_count": 1,
   "metadata": {},
   "outputs": [
    {
     "name": "stdout",
     "output_type": "stream",
     "text": [
      "Hello from gh-class-4!\n"
     ]
    }
   ],
   "source": [
    "def main():\n",
    "    print(\"Hello from gh-class-4!\")\n",
    "main()"
   ]
  },
  {
   "cell_type": "code",
   "execution_count": 2,
   "metadata": {},
   "outputs": [
    {
     "name": "stdout",
     "output_type": "stream",
     "text": [
      "Kacha papita paka papita\n",
      "Kacha papita paka papita\n",
      "Kacha papita paka papita\n"
     ]
    }
   ],
   "source": [
    "count = 1\n",
    "   \n",
    "while count <= 3:\n",
    "    print(\"Kacha papita paka papita\")\n",
    "    count += 1 "
   ]
  },
  {
   "cell_type": "code",
   "execution_count": 3,
   "metadata": {},
   "outputs": [
    {
     "name": "stdout",
     "output_type": "stream",
     "text": [
      "Khujoor\n",
      "Samosay\n",
      "Pakoray\n",
      "Rooh Afza\n",
      "Chana chaat\n"
     ]
    }
   ],
   "source": [
    "iftar_items: list = [\"Khujoor\",\"Samosay\", \"Pakoray\", \"Rooh Afza\", \"Chana chaat\" ]\n",
    "for items in iftar_items:\n",
    "    print(items)"
   ]
  },
  {
   "cell_type": "code",
   "execution_count": 4,
   "metadata": {},
   "outputs": [
    {
     "name": "stdout",
     "output_type": "stream",
     "text": [
      "26\n"
     ]
    }
   ],
   "source": [
    "def items(*n):\n",
    "    sum = 0\n",
    "    for item in n:\n",
    "        sum += item\n",
    "    print(sum)\n",
    "\n",
    "items(2, 2, 5,6 , 7, 2, 2)"
   ]
  }
 ],
 "metadata": {
  "kernelspec": {
   "display_name": "Python 3",
   "language": "python",
   "name": "python3"
  },
  "language_info": {
   "codemirror_mode": {
    "name": "ipython",
    "version": 3
   },
   "file_extension": ".py",
   "mimetype": "text/x-python",
   "name": "python",
   "nbconvert_exporter": "python",
   "pygments_lexer": "ipython3",
   "version": "3.13.2"
  }
 },
 "nbformat": 4,
 "nbformat_minor": 2
}
