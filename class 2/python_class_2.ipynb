{
  "cells": [
    {
      "cell_type": "markdown",
      "metadata": {
        "id": "ktM_7wUGoowp"
      },
      "source": [
        "# Role Of \\t and \\n"
      ]
    },
    {
      "cell_type": "code",
      "execution_count": 1,
      "metadata": {
        "colab": {
          "base_uri": "https://localhost:8080/"
        },
        "id": "Vb2X8V9bclZl",
        "outputId": "a8c4eff4-537d-4f2d-871d-9529af74377c"
      },
      "outputs": [
        {
          "name": "stdout",
          "output_type": "stream",
          "text": [
            "Hello World\n",
            "Hello \t World\n",
            "Hello \n",
            " World\n",
            "Hello \t World \n",
            " How are you?\n"
          ]
        }
      ],
      "source": [
        "message = \"Hello World\"\n",
        "print(message)\n",
        "\n",
        "message = \"Hello \\t World\"\n",
        "print(message)\n",
        "\n",
        "message = \"Hello \\n World\"\n",
        "print(message)\n",
        "\n",
        "message = \"Hello \\t World \\n How are you?\"\n",
        "print(message)"
      ]
    },
    {
      "cell_type": "markdown",
      "metadata": {
        "id": "SgFvgY52pGFx"
      },
      "source": [
        "# Use Of Indexes"
      ]
    },
    {
      "cell_type": "code",
      "execution_count": null,
      "metadata": {
        "colab": {
          "base_uri": "https://localhost:8080/"
        },
        "id": "ZXHgPjEzoxIe",
        "outputId": "8c354c8b-97f6-4df8-9d1c-61f2805d37e3"
      },
      "outputs": [
        {
          "name": "stdout",
          "output_type": "stream",
          "text": [
            "H\n",
            "Hello\n"
          ]
        }
      ],
      "source": [
        "message = \"Hello World\"\n",
        "print(message[0])\n",
        "print(message[0:5])"
      ]
    },
    {
      "cell_type": "markdown",
      "metadata": {
        "id": "lMXtk-_apM6P"
      },
      "source": [
        "# Role of Bytes\n"
      ]
    },
    {
      "cell_type": "code",
      "execution_count": 2,
      "metadata": {
        "colab": {
          "base_uri": "https://localhost:8080/"
        },
        "id": "AquOfEpxpNRp",
        "outputId": "d695a35b-0f44-48f3-c95f-db662e119abc"
      },
      "outputs": [
        {
          "name": "stdout",
          "output_type": "stream",
          "text": [
            "b'Hello World'\n",
            "101\n",
            "b'l'\n"
          ]
        }
      ],
      "source": [
        "byte_data: bytes = b\"Hello World\"\n",
        "print(byte_data)\n",
        "print(byte_data[1])\n",
        "print(byte_data[3:4])"
      ]
    },
    {
      "cell_type": "markdown",
      "metadata": {
        "id": "zHyxJFDOqAYd"
      },
      "source": [
        "# Split Function"
      ]
    },
    {
      "cell_type": "code",
      "execution_count": 5,
      "metadata": {
        "colab": {
          "base_uri": "https://localhost:8080/"
        },
        "id": "cKiRhhjXqAcJ",
        "outputId": "6a75a423-fcf9-4e01-cbda-362e87943c82"
      },
      "outputs": [
        {
          "name": "stdout",
          "output_type": "stream",
          "text": [
            "['Hello', 'World']\n",
            "['Hello World']\n",
            "['Hello World']\n"
          ]
        }
      ],
      "source": [
        "message = \"Hello World\"\n",
        "print(message.split())\n",
        "print(message.split(\"\\n\"))\n",
        "print(message.split(\"\\t\"))"
      ]
    },
    {
      "cell_type": "markdown",
      "metadata": {
        "id": "j8L4nsgdqeOt"
      },
      "source": [
        "# Join Function"
      ]
    },
    {
      "cell_type": "code",
      "execution_count": 4,
      "metadata": {
        "colab": {
          "base_uri": "https://localhost:8080/"
        },
        "id": "QHtdWAlIqeTE",
        "outputId": "6c6e8df8-96b1-4973-8ea3-b0e9f91f88e9"
      },
      "outputs": [
        {
          "name": "stdout",
          "output_type": "stream",
          "text": [
            "['Muhammad', 'Awais', 'Manzoor', 'Hussain']\n",
            "MuhammadAwaisManzoorHussain\n",
            "Muhammad Awais Manzoor Hussain\n",
            "Muhammad,Awais,Manzoor,Hussain\n",
            "Muhammad , Awais , Manzoor , Hussain\n",
            "Muhammad, Awais, Manzoor, Hussain\n"
          ]
        }
      ],
      "source": [
        "pak_team = [\"Muhammad\", \"Awais\", \"Manzoor\", \"Hussain\"]\n",
        "print(pak_team)\n",
        "print(\"\".join(pak_team))\n",
        "print(\" \".join(pak_team))\n",
        "print(\",\".join(pak_team))\n",
        "print(\" , \".join(pak_team))\n",
        "print(\", \".join(pak_team))"
      ]
    },
    {
      "cell_type": "markdown",
      "metadata": {
        "id": "JfdwO8Q6rJFN"
      },
      "source": [
        "# Replace Function"
      ]
    },
    {
      "cell_type": "code",
      "execution_count": 7,
      "metadata": {
        "colab": {
          "base_uri": "https://localhost:8080/"
        },
        "id": "9KICEu3WrJKc",
        "outputId": "90b0d722-0ee7-4525-d0b9-8e89fe09ca2e"
      },
      "outputs": [
        {
          "name": "stdout",
          "output_type": "stream",
          "text": [
            "Hey World\n",
            "Hello Class\n"
          ]
        }
      ],
      "source": [
        "message = \"Hello World\"\n",
        "print(message.replace(\"Hello\", \"Hey\"))\n",
        "print(message.replace(\"World\", \"Class\"))"
      ]
    },
    {
      "cell_type": "markdown",
      "metadata": {
        "id": "9VIN47-Srrvv"
      },
      "source": [
        "# Random Modules (Generates Random Numbers)"
      ]
    },
    {
      "cell_type": "code",
      "execution_count": 6,
      "metadata": {
        "colab": {
          "base_uri": "https://localhost:8080/"
        },
        "id": "nOOVX5M9rr0-",
        "outputId": "be149ce7-c3a1-43fa-c800-e1eef7c20630"
      },
      "outputs": [
        {
          "name": "stdout",
          "output_type": "stream",
          "text": [
            "7\n"
          ]
        }
      ],
      "source": [
        "import random\n",
        "bobzi_runs = random.randint(0,10)\n",
        "print(bobzi_runs)"
      ]
    },
    {
      "cell_type": "markdown",
      "metadata": {
        "id": "fRA5iODUsOe4"
      },
      "source": [
        "# If Else Condition Using With Random Module"
      ]
    },
    {
      "cell_type": "code",
      "execution_count": null,
      "metadata": {
        "colab": {
          "base_uri": "https://localhost:8080/"
        },
        "id": "dq5-s-UusUcv",
        "outputId": "df23d26b-0993-4ee1-b697-6c68d7ac7027"
      },
      "outputs": [
        {
          "name": "stdout",
          "output_type": "stream",
          "text": [
            "137\n",
            "🤴 King\n"
          ]
        }
      ],
      "source": [
        "import random\n",
        "\n",
        "bobzi_runs = random.randint(0, 150)\n",
        "print(bobzi_runs)\n",
        "\n",
        "if bobzi_runs >= 100:\n",
        "    print(\"🤴 King\")\n",
        "else:\n",
        "    print(\"🔔 King\")"
      ]
    },
    {
      "cell_type": "markdown",
      "metadata": {
        "id": "PtEYA0rZtYcT"
      },
      "source": []
    },
    {
      "cell_type": "code",
      "execution_count": 36,
      "metadata": {
        "colab": {
          "base_uri": "https://localhost:8080/"
        },
        "id": "G3FJGt8ptYiL",
        "outputId": "3e394e35-9c35-4d23-991b-e63ce5e2384b"
      },
      "outputs": [
        {
          "name": "stdout",
          "output_type": "stream",
          "text": [
            "105\n",
            "👑 King\n"
          ]
        }
      ],
      "source": [
        "bobzi_runs = random.randint(0, 150)\n",
        "ball_faced = 80\n",
        "print(bobzi_runs)\n",
        "\n",
        "if (bobzi_runs >= 100 and ball_faced < bobzi_runs):\n",
        "  #               True      True   =  King Print\n",
        "    print(\"🤴 King\")\n",
        "else:\n",
        "    print(\"🔔 King\")"
      ]
    },
    {
      "cell_type": "markdown",
      "metadata": {
        "id": "1mdYOI3Nt1eM"
      },
      "source": [
        "# Use Of Dictionary"
      ]
    },
    {
      "cell_type": "code",
      "execution_count": 37,
      "metadata": {
        "colab": {
          "base_uri": "https://localhost:8080/",
          "height": 53
        },
        "id": "12uh2yQgt1jy",
        "outputId": "39a370d5-f140-4c7f-a9d9-7e8e11ec21d5"
      },
      "outputs": [
        {
          "name": "stdout",
          "output_type": "stream",
          "text": [
            "{'name': 'Awais', 'age': 24, 'is_married': False}\n"
          ]
        },
        {
          "data": {
            "text/plain": [
              "'Awais'"
            ]
          },
          "execution_count": 37,
          "metadata": {},
          "output_type": "execute_result"
        }
      ],
      "source": [
        "user = {\n",
        "    \"name\" : \"Awais\",\n",
        "    \"age\"  : 24,\n",
        "    \"is_married\" : False\n",
        "}\n",
        "print(user)\n",
        "user[\"name\"]\n",
        "# print(user[\"name\"])   # It also works because advance collab future"
      ]
    }
  ],
  "metadata": {
    "colab": {
      "provenance": []
    },
    "kernelspec": {
      "display_name": "Python 3",
      "name": "python3"
    },
    "language_info": {
      "codemirror_mode": {
        "name": "ipython",
        "version": 3
      },
      "file_extension": ".py",
      "mimetype": "text/x-python",
      "name": "python",
      "nbconvert_exporter": "python",
      "pygments_lexer": "ipython3",
      "version": "3.13.2"
    }
  },
  "nbformat": 4,
  "nbformat_minor": 0
}
